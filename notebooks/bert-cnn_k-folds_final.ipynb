{
 "cells": [
  {
   "cell_type": "code",
   "execution_count": null,
   "metadata": {
    "colab": {
     "base_uri": "https://localhost:8080/",
     "height": 255
    },
    "executionInfo": {
     "elapsed": 342464,
     "status": "ok",
     "timestamp": 1758351995530,
     "user": {
      "displayName": "Artemis Papaspyrou",
      "userId": "18188189575963929921"
     },
     "user_tz": -180
    },
    "id": "IqAO9J13Z44C",
    "outputId": "0ef49cd4-9555-4b7e-accd-056876b07e03"
   },
   "outputs": [
    {
     "name": "stdout",
     "output_type": "stream",
     "text": [
      "--- Section 0: Installing and Importing Libraries ---\n",
      "\n",
      " Loading and Preprocessing Data\n"
     ]
    },
    {
     "data": {
      "text/html": [
       "\n",
       "     <input type=\"file\" id=\"files-a0198656-bee1-4f27-931a-9c2130b0ac02\" name=\"files[]\" multiple disabled\n",
       "        style=\"border:none\" />\n",
       "     <output id=\"result-a0198656-bee1-4f27-931a-9c2130b0ac02\">\n",
       "      Upload widget is only available when the cell has been executed in the\n",
       "      current browser session. Please rerun this cell to enable.\n",
       "      </output>\n",
       "      <script>// Copyright 2017 Google LLC\n",
       "//\n",
       "// Licensed under the Apache License, Version 2.0 (the \"License\");\n",
       "// you may not use this file except in compliance with the License.\n",
       "// You may obtain a copy of the License at\n",
       "//\n",
       "//      http://www.apache.org/licenses/LICENSE-2.0\n",
       "//\n",
       "// Unless required by applicable law or agreed to in writing, software\n",
       "// distributed under the License is distributed on an \"AS IS\" BASIS,\n",
       "// WITHOUT WARRANTIES OR CONDITIONS OF ANY KIND, either express or implied.\n",
       "// See the License for the specific language governing permissions and\n",
       "// limitations under the License.\n",
       "\n",
       "/**\n",
       " * @fileoverview Helpers for google.colab Python module.\n",
       " */\n",
       "(function(scope) {\n",
       "function span(text, styleAttributes = {}) {\n",
       "  const element = document.createElement('span');\n",
       "  element.textContent = text;\n",
       "  for (const key of Object.keys(styleAttributes)) {\n",
       "    element.style[key] = styleAttributes[key];\n",
       "  }\n",
       "  return element;\n",
       "}\n",
       "\n",
       "// Max number of bytes which will be uploaded at a time.\n",
       "const MAX_PAYLOAD_SIZE = 100 * 1024;\n",
       "\n",
       "function _uploadFiles(inputId, outputId) {\n",
       "  const steps = uploadFilesStep(inputId, outputId);\n",
       "  const outputElement = document.getElementById(outputId);\n",
       "  // Cache steps on the outputElement to make it available for the next call\n",
       "  // to uploadFilesContinue from Python.\n",
       "  outputElement.steps = steps;\n",
       "\n",
       "  return _uploadFilesContinue(outputId);\n",
       "}\n",
       "\n",
       "// This is roughly an async generator (not supported in the browser yet),\n",
       "// where there are multiple asynchronous steps and the Python side is going\n",
       "// to poll for completion of each step.\n",
       "// This uses a Promise to block the python side on completion of each step,\n",
       "// then passes the result of the previous step as the input to the next step.\n",
       "function _uploadFilesContinue(outputId) {\n",
       "  const outputElement = document.getElementById(outputId);\n",
       "  const steps = outputElement.steps;\n",
       "\n",
       "  const next = steps.next(outputElement.lastPromiseValue);\n",
       "  return Promise.resolve(next.value.promise).then((value) => {\n",
       "    // Cache the last promise value to make it available to the next\n",
       "    // step of the generator.\n",
       "    outputElement.lastPromiseValue = value;\n",
       "    return next.value.response;\n",
       "  });\n",
       "}\n",
       "\n",
       "/**\n",
       " * Generator function which is called between each async step of the upload\n",
       " * process.\n",
       " * @param {string} inputId Element ID of the input file picker element.\n",
       " * @param {string} outputId Element ID of the output display.\n",
       " * @return {!Iterable<!Object>} Iterable of next steps.\n",
       " */\n",
       "function* uploadFilesStep(inputId, outputId) {\n",
       "  const inputElement = document.getElementById(inputId);\n",
       "  inputElement.disabled = false;\n",
       "\n",
       "  const outputElement = document.getElementById(outputId);\n",
       "  outputElement.innerHTML = '';\n",
       "\n",
       "  const pickedPromise = new Promise((resolve) => {\n",
       "    inputElement.addEventListener('change', (e) => {\n",
       "      resolve(e.target.files);\n",
       "    });\n",
       "  });\n",
       "\n",
       "  const cancel = document.createElement('button');\n",
       "  inputElement.parentElement.appendChild(cancel);\n",
       "  cancel.textContent = 'Cancel upload';\n",
       "  const cancelPromise = new Promise((resolve) => {\n",
       "    cancel.onclick = () => {\n",
       "      resolve(null);\n",
       "    };\n",
       "  });\n",
       "\n",
       "  // Wait for the user to pick the files.\n",
       "  const files = yield {\n",
       "    promise: Promise.race([pickedPromise, cancelPromise]),\n",
       "    response: {\n",
       "      action: 'starting',\n",
       "    }\n",
       "  };\n",
       "\n",
       "  cancel.remove();\n",
       "\n",
       "  // Disable the input element since further picks are not allowed.\n",
       "  inputElement.disabled = true;\n",
       "\n",
       "  if (!files) {\n",
       "    return {\n",
       "      response: {\n",
       "        action: 'complete',\n",
       "      }\n",
       "    };\n",
       "  }\n",
       "\n",
       "  for (const file of files) {\n",
       "    const li = document.createElement('li');\n",
       "    li.append(span(file.name, {fontWeight: 'bold'}));\n",
       "    li.append(span(\n",
       "        `(${file.type || 'n/a'}) - ${file.size} bytes, ` +\n",
       "        `last modified: ${\n",
       "            file.lastModifiedDate ? file.lastModifiedDate.toLocaleDateString() :\n",
       "                                    'n/a'} - `));\n",
       "    const percent = span('0% done');\n",
       "    li.appendChild(percent);\n",
       "\n",
       "    outputElement.appendChild(li);\n",
       "\n",
       "    const fileDataPromise = new Promise((resolve) => {\n",
       "      const reader = new FileReader();\n",
       "      reader.onload = (e) => {\n",
       "        resolve(e.target.result);\n",
       "      };\n",
       "      reader.readAsArrayBuffer(file);\n",
       "    });\n",
       "    // Wait for the data to be ready.\n",
       "    let fileData = yield {\n",
       "      promise: fileDataPromise,\n",
       "      response: {\n",
       "        action: 'continue',\n",
       "      }\n",
       "    };\n",
       "\n",
       "    // Use a chunked sending to avoid message size limits. See b/62115660.\n",
       "    let position = 0;\n",
       "    do {\n",
       "      const length = Math.min(fileData.byteLength - position, MAX_PAYLOAD_SIZE);\n",
       "      const chunk = new Uint8Array(fileData, position, length);\n",
       "      position += length;\n",
       "\n",
       "      const base64 = btoa(String.fromCharCode.apply(null, chunk));\n",
       "      yield {\n",
       "        response: {\n",
       "          action: 'append',\n",
       "          file: file.name,\n",
       "          data: base64,\n",
       "        },\n",
       "      };\n",
       "\n",
       "      let percentDone = fileData.byteLength === 0 ?\n",
       "          100 :\n",
       "          Math.round((position / fileData.byteLength) * 100);\n",
       "      percent.textContent = `${percentDone}% done`;\n",
       "\n",
       "    } while (position < fileData.byteLength);\n",
       "  }\n",
       "\n",
       "  // All done.\n",
       "  yield {\n",
       "    response: {\n",
       "      action: 'complete',\n",
       "    }\n",
       "  };\n",
       "}\n",
       "\n",
       "scope.google = scope.google || {};\n",
       "scope.google.colab = scope.google.colab || {};\n",
       "scope.google.colab._files = {\n",
       "  _uploadFiles,\n",
       "  _uploadFilesContinue,\n",
       "};\n",
       "})(self);\n",
       "</script> "
      ],
      "text/plain": [
       "<IPython.core.display.HTML object>"
      ]
     },
     "metadata": {},
     "output_type": "display_data"
    },
    {
     "name": "stdout",
     "output_type": "stream",
     "text": [
      "Saving archive.zip to archive.zip\n",
      "\n",
      "Dataset loaded successfully with 44898 articles.\n",
      "Class distribution:\n",
      " label\n",
      "1    23481\n",
      "0    21417\n",
      "Name: count, dtype: int64\n"
     ]
    }
   ],
   "source": [
    "# 1. INSTALL DEPENDENCIES & IMPORT LIBRARIES\n",
    "print(\" Installing and Importing Libraries \")\n",
    "!pip install transformers -q\n",
    "!pip install tensorflow -q\n",
    "!pip install scikit-learn -q\n",
    "!pip install pandas -q\n",
    "!pip install matplotlib -q\n",
    "!pip install gradio -q\n",
    "\n",
    "import pandas as pd\n",
    "import numpy as np\n",
    "import tensorflow as tf\n",
    "from tensorflow.keras.models import Model\n",
    "from tensorflow.keras.layers import Input, Dense, Dropout, Conv1D, GlobalMaxPooling1D, Layer\n",
    "from tensorflow.keras.optimizers import Adam\n",
    "from transformers import BertTokenizer, TFBertModel\n",
    "from sklearn.model_selection import train_test_split, StratifiedKFold\n",
    "from sklearn.metrics import (\n",
    "    classification_report, confusion_matrix, roc_auc_score,\n",
    "    roc_curve, precision_recall_curve, average_precision_score, f1_score, accuracy_score\n",
    ")\n",
    "import matplotlib.pyplot as plt\n",
    "import seaborn as sns\n",
    "import os\n",
    "import zipfile\n",
    "from google.colab import files, drive\n",
    "from tensorflow.keras.callbacks import EarlyStopping, ReduceLROnPlateau\n",
    "import re\n",
    "from pathlib import Path\n",
    "import shutil\n",
    "import json\n",
    "import io\n",
    "import sys\n",
    "import transformers as hf_transformers\n",
    "import sklearn\n",
    "import gradio as gr\n",
    "\n",
    "# DATA LOADING AND PREPROCESSING\n",
    "print(\"\\n Loading and Preprocessing Data\")\n",
    "\n",
    "def clean_text(text: str) -> str:\n",
    "    \"\"\"Cleans the input text.\"\"\"\n",
    "    text = re.sub(r'https?://\\S+|www\\.\\S+', '', text)\n",
    "    text = re.sub(r'<.*?>', '', text)\n",
    "    text = re.sub(r'[^a-zA-Z\\s]', '', text)\n",
    "    text = text.lower()\n",
    "    text = re.sub(r'\\s+', ' ', text).strip()\n",
    "    return text\n",
    "\n",
    "if 'google.colab' in sys.modules:\n",
    "    if not os.path.exists('archive.zip'):\n",
    "        uploaded = files.upload()\n",
    "\n",
    "with zipfile.ZipFile('archive.zip', 'r') as zip_ref:\n",
    "    zip_ref.extractall('/content/data')\n",
    "\n",
    "fake_df = pd.read_csv('/content/data/Fake.csv')\n",
    "true_df = pd.read_csv('/content/data/True.csv')\n",
    "\n",
    "# ADDRESSING DATA LEAKAGE\n",
    "true_df['text'] = true_df['text'].apply(lambda x: x.split(' - ', 1)[-1])\n",
    "\n",
    "fake_df['label'] = 1\n",
    "true_df['label'] = 0\n",
    "\n",
    "df = pd.concat([fake_df, true_df]).sample(frac=1, random_state=42).reset_index(drop=True)\n",
    "df['content'] = (df['title'].astype(str) + ' ' + df['text'].astype(str)).apply(clean_text)\n",
    "df = df[['content', 'label']]\n",
    "\n",
    "print(f\"\\nDataset loaded successfully with {len(df)} articles.\")\n",
    "print(\"Class distribution:\\n\", df['label'].value_counts())"
   ]
  },
  {
   "cell_type": "code",
   "execution_count": null,
   "metadata": {
    "colab": {
     "base_uri": "https://localhost:8080/",
     "height": 967,
     "referenced_widgets": [
      "1cbaaa226baa4cf88cb1202a28306d96",
      "4f4dbb10e41c4a6c87f8d09140710f6a",
      "a0e482488d3a4ccbae154df2aced5bb2",
      "1df8e58a1c7f4042bed41f90f7b6a60d",
      "f5e00d6dedcc41d381bafc55f89f4f2b",
      "0771a11736ba447199b29a5e0b6760d3",
      "4b29223ed3c84b69938736637c12f432",
      "345c61cd04344d808a689b34a8da6dd3",
      "8d81a7a78b844a35a9de484712ef09a2",
      "a64206ffd93042829a85420e8ba81456",
      "3cecf3349eae487a822ea6131b580d0d",
      "930bb24cfeaa47fc99249a0b69909a68",
      "fcd9ff8494124082ab40e59c16998df0",
      "02a4e1fd7d404819b98b4ed99372530f",
      "7ea0f50cfbbf432ba6a48ca0983d5e75",
      "cb5a03ead77d4ee5825f02fed8ad4026",
      "bd30746be312478cab10efb97bf29cee",
      "9ca917f4308a44d9b7ea4447d174021a",
      "fb338452664441738d489640d3ce9b0d",
      "31ac9d54c6654f21b132e0f1faf53602",
      "52f0ab32bd7d45a0815ad6de04d0f607",
      "ec61724055e64b5eaef460a6c85d2822",
      "e9fe9c14a5d74fae94b6c226bf0d4cc3",
      "21146262b34c49acb3760e4b6f7b2697",
      "472a838c28b94f37901b656d8423eae8",
      "22c2248c05ec4e77b777f114418c5c5d",
      "aa1073e10cfd40ea9e35a0d5f64884b5",
      "6e8990e103c54cf8b31f51c5cbd7cda4",
      "d944bc5204ee426cbb83815f44d5253c",
      "01f261764e32403fb0f70c7da432e9ff",
      "bb793659410047238af044c4827d734d",
      "e153e2b9e17b47f7affb87f8137285bc",
      "f22f958d3a9a46a4b5b7dc719e160f7b",
      "c93916793a65481497a9060fbe2eb156",
      "5e8ee8129abd4383a9837948889bab22",
      "64c9ee39ff194e038f842752677f61e6",
      "438e93ad33f74b4b9be304a0d6edfbc0",
      "50fae07a01994091957ecf9aad0ab02f",
      "7568154b544146c89cf6fb925a0a56ab",
      "b2bfc1b912914868a988b486b9e94216",
      "1b80ebe876bc4f34889941197003db4a",
      "0e11456741f549daad21f50111aca45b",
      "0c87677a964a4ecab23ab7f2760edc90",
      "96e3d0e4e26a4dc295ba4b6f61ca1377",
      "f268e759ad3743b389a3a7a926277b18",
      "65f206b2bb4746149d8d57a8732e2989",
      "78045efea9344d9a9c2f8842b593798d",
      "320fbd8076ef47b8807ae96888d0ace2",
      "7dad19d1257643c98db0bfaf5eed0bbc",
      "bb38fdfd005a4c42b79177c26622c312",
      "3af93ebba17d4bd394246bae61e50b69",
      "e1b68330db2c4445a68cbb1057713ad9",
      "d1009ea70c70411c8741cee4cacce00b",
      "e63a4b0e3d9049d885d248bc53fbda40",
      "b32999f33d794a7896f3f9c3b086aa1c"
     ]
    },
    "executionInfo": {
     "elapsed": 27960,
     "status": "ok",
     "timestamp": 1758352023521,
     "user": {
      "displayName": "Artemis Papaspyrou",
      "userId": "18188189575963929921"
     },
     "user_tz": -180
    },
    "id": "z6z5dC3LZ7fW",
    "outputId": "e96d541a-22d8-438e-911d-f033fe1b0920"
   },
   "outputs": [
    {
     "name": "stdout",
     "output_type": "stream",
     "text": [
      "\n",
      " Defining Tokenizer and BERT-CNN Model\n"
     ]
    },
    {
     "name": "stderr",
     "output_type": "stream",
     "text": [
      "/usr/local/lib/python3.12/dist-packages/huggingface_hub/utils/_auth.py:94: UserWarning: \n",
      "The secret `HF_TOKEN` does not exist in your Colab secrets.\n",
      "To authenticate with the Hugging Face Hub, create a token in your settings tab (https://huggingface.co/settings/tokens), set it as secret in your Google Colab and restart your session.\n",
      "You will be able to reuse this secret in all of your notebooks.\n",
      "Please note that authentication is recommended but still optional to access public models or datasets.\n",
      "  warnings.warn(\n"
     ]
    },
    {
     "data": {
      "application/vnd.jupyter.widget-view+json": {
       "model_id": "1cbaaa226baa4cf88cb1202a28306d96",
       "version_major": 2,
       "version_minor": 0
      },
      "text/plain": [
       "tokenizer_config.json:   0%|          | 0.00/48.0 [00:00<?, ?B/s]"
      ]
     },
     "metadata": {},
     "output_type": "display_data"
    },
    {
     "data": {
      "application/vnd.jupyter.widget-view+json": {
       "model_id": "930bb24cfeaa47fc99249a0b69909a68",
       "version_major": 2,
       "version_minor": 0
      },
      "text/plain": [
       "vocab.txt:   0%|          | 0.00/232k [00:00<?, ?B/s]"
      ]
     },
     "metadata": {},
     "output_type": "display_data"
    },
    {
     "data": {
      "application/vnd.jupyter.widget-view+json": {
       "model_id": "e9fe9c14a5d74fae94b6c226bf0d4cc3",
       "version_major": 2,
       "version_minor": 0
      },
      "text/plain": [
       "tokenizer.json:   0%|          | 0.00/466k [00:00<?, ?B/s]"
      ]
     },
     "metadata": {},
     "output_type": "display_data"
    },
    {
     "data": {
      "application/vnd.jupyter.widget-view+json": {
       "model_id": "c93916793a65481497a9060fbe2eb156",
       "version_major": 2,
       "version_minor": 0
      },
      "text/plain": [
       "config.json:   0%|          | 0.00/570 [00:00<?, ?B/s]"
      ]
     },
     "metadata": {},
     "output_type": "display_data"
    },
    {
     "data": {
      "application/vnd.jupyter.widget-view+json": {
       "model_id": "f268e759ad3743b389a3a7a926277b18",
       "version_major": 2,
       "version_minor": 0
      },
      "text/plain": [
       "pytorch_model.bin:   0%|          | 0.00/440M [00:00<?, ?B/s]"
      ]
     },
     "metadata": {},
     "output_type": "display_data"
    },
    {
     "name": "stderr",
     "output_type": "stream",
     "text": [
      "TensorFlow and JAX classes are deprecated and will be removed in Transformers v5. We recommend migrating to PyTorch classes or pinning your version of Transformers.\n",
      "Some weights of the PyTorch model were not used when initializing the TF 2.0 model TFBertModel: ['cls.predictions.transform.dense.bias', 'cls.predictions.transform.LayerNorm.weight', 'cls.seq_relationship.bias', 'cls.predictions.transform.LayerNorm.bias', 'cls.predictions.bias', 'cls.seq_relationship.weight', 'cls.predictions.decoder.weight', 'cls.predictions.transform.dense.weight']\n",
      "- This IS expected if you are initializing TFBertModel from a PyTorch model trained on another task or with another architecture (e.g. initializing a TFBertForSequenceClassification model from a BertForPreTraining model).\n",
      "- This IS NOT expected if you are initializing TFBertModel from a PyTorch model that you expect to be exactly identical (e.g. initializing a TFBertForSequenceClassification model from a BertForSequenceClassification model).\n",
      "All the weights of TFBertModel were initialized from the PyTorch model.\n",
      "If your task is similar to the task the model of the checkpoint was trained on, you can already use TFBertModel for predictions without further training.\n"
     ]
    },
    {
     "name": "stdout",
     "output_type": "stream",
     "text": [
      "\n",
      "BERT-CNN Model Architecture:\n"
     ]
    },
    {
     "data": {
      "text/html": [
       "<pre style=\"white-space:pre;overflow-x:auto;line-height:normal;font-family:Menlo,'DejaVu Sans Mono',consolas,'Courier New',monospace\"><span style=\"font-weight: bold\">Model: \"functional\"</span>\n",
       "</pre>\n"
      ],
      "text/plain": [
       "\u001b[1mModel: \"functional\"\u001b[0m\n"
      ]
     },
     "metadata": {},
     "output_type": "display_data"
    },
    {
     "data": {
      "text/html": [
       "<pre style=\"white-space:pre;overflow-x:auto;line-height:normal;font-family:Menlo,'DejaVu Sans Mono',consolas,'Courier New',monospace\">┏━━━━━━━━━━━━━━━━━━━━━┳━━━━━━━━━━━━━━━━━━━┳━━━━━━━━━━━━┳━━━━━━━━━━━━━━━━━━━┓\n",
       "┃<span style=\"font-weight: bold\"> Layer (type)        </span>┃<span style=\"font-weight: bold\"> Output Shape      </span>┃<span style=\"font-weight: bold\">    Param # </span>┃<span style=\"font-weight: bold\"> Connected to      </span>┃\n",
       "┡━━━━━━━━━━━━━━━━━━━━━╇━━━━━━━━━━━━━━━━━━━╇━━━━━━━━━━━━╇━━━━━━━━━━━━━━━━━━━┩\n",
       "│ attention_mask      │ (<span style=\"color: #00d7ff; text-decoration-color: #00d7ff\">None</span>, <span style=\"color: #00af00; text-decoration-color: #00af00\">128</span>)       │          <span style=\"color: #00af00; text-decoration-color: #00af00\">0</span> │ -                 │\n",
       "│ (<span style=\"color: #0087ff; text-decoration-color: #0087ff\">InputLayer</span>)        │                   │            │                   │\n",
       "├─────────────────────┼───────────────────┼────────────┼───────────────────┤\n",
       "│ input_ids           │ (<span style=\"color: #00d7ff; text-decoration-color: #00d7ff\">None</span>, <span style=\"color: #00af00; text-decoration-color: #00af00\">128</span>)       │          <span style=\"color: #00af00; text-decoration-color: #00af00\">0</span> │ -                 │\n",
       "│ (<span style=\"color: #0087ff; text-decoration-color: #0087ff\">InputLayer</span>)        │                   │            │                   │\n",
       "├─────────────────────┼───────────────────┼────────────┼───────────────────┤\n",
       "│ bert_feature_extra… │ (<span style=\"color: #00d7ff; text-decoration-color: #00d7ff\">None</span>, <span style=\"color: #00af00; text-decoration-color: #00af00\">128</span>, <span style=\"color: #00af00; text-decoration-color: #00af00\">768</span>)  │          <span style=\"color: #00af00; text-decoration-color: #00af00\">0</span> │ attention_mask[<span style=\"color: #00af00; text-decoration-color: #00af00\">0</span>… │\n",
       "│ (<span style=\"color: #0087ff; text-decoration-color: #0087ff\">BertFeatureExtrac…</span> │                   │            │ input_ids[<span style=\"color: #00af00; text-decoration-color: #00af00\">0</span>][<span style=\"color: #00af00; text-decoration-color: #00af00\">0</span>]   │\n",
       "├─────────────────────┼───────────────────┼────────────┼───────────────────┤\n",
       "│ conv1d (<span style=\"color: #0087ff; text-decoration-color: #0087ff\">Conv1D</span>)     │ (<span style=\"color: #00d7ff; text-decoration-color: #00d7ff\">None</span>, <span style=\"color: #00af00; text-decoration-color: #00af00\">126</span>, <span style=\"color: #00af00; text-decoration-color: #00af00\">64</span>)   │    <span style=\"color: #00af00; text-decoration-color: #00af00\">147,520</span> │ bert_feature_ext… │\n",
       "├─────────────────────┼───────────────────┼────────────┼───────────────────┤\n",
       "│ global_max_pooling… │ (<span style=\"color: #00d7ff; text-decoration-color: #00d7ff\">None</span>, <span style=\"color: #00af00; text-decoration-color: #00af00\">64</span>)        │          <span style=\"color: #00af00; text-decoration-color: #00af00\">0</span> │ conv1d[<span style=\"color: #00af00; text-decoration-color: #00af00\">0</span>][<span style=\"color: #00af00; text-decoration-color: #00af00\">0</span>]      │\n",
       "│ (<span style=\"color: #0087ff; text-decoration-color: #0087ff\">GlobalMaxPooling1…</span> │                   │            │                   │\n",
       "├─────────────────────┼───────────────────┼────────────┼───────────────────┤\n",
       "│ dropout (<span style=\"color: #0087ff; text-decoration-color: #0087ff\">Dropout</span>)   │ (<span style=\"color: #00d7ff; text-decoration-color: #00d7ff\">None</span>, <span style=\"color: #00af00; text-decoration-color: #00af00\">64</span>)        │          <span style=\"color: #00af00; text-decoration-color: #00af00\">0</span> │ global_max_pooli… │\n",
       "├─────────────────────┼───────────────────┼────────────┼───────────────────┤\n",
       "│ dense (<span style=\"color: #0087ff; text-decoration-color: #0087ff\">Dense</span>)       │ (<span style=\"color: #00d7ff; text-decoration-color: #00d7ff\">None</span>, <span style=\"color: #00af00; text-decoration-color: #00af00\">32</span>)        │      <span style=\"color: #00af00; text-decoration-color: #00af00\">2,080</span> │ dropout[<span style=\"color: #00af00; text-decoration-color: #00af00\">0</span>][<span style=\"color: #00af00; text-decoration-color: #00af00\">0</span>]     │\n",
       "├─────────────────────┼───────────────────┼────────────┼───────────────────┤\n",
       "│ dropout_1 (<span style=\"color: #0087ff; text-decoration-color: #0087ff\">Dropout</span>) │ (<span style=\"color: #00d7ff; text-decoration-color: #00d7ff\">None</span>, <span style=\"color: #00af00; text-decoration-color: #00af00\">32</span>)        │          <span style=\"color: #00af00; text-decoration-color: #00af00\">0</span> │ dense[<span style=\"color: #00af00; text-decoration-color: #00af00\">0</span>][<span style=\"color: #00af00; text-decoration-color: #00af00\">0</span>]       │\n",
       "├─────────────────────┼───────────────────┼────────────┼───────────────────┤\n",
       "│ classification      │ (<span style=\"color: #00d7ff; text-decoration-color: #00d7ff\">None</span>, <span style=\"color: #00af00; text-decoration-color: #00af00\">1</span>)         │         <span style=\"color: #00af00; text-decoration-color: #00af00\">33</span> │ dropout_1[<span style=\"color: #00af00; text-decoration-color: #00af00\">0</span>][<span style=\"color: #00af00; text-decoration-color: #00af00\">0</span>]   │\n",
       "│ (<span style=\"color: #0087ff; text-decoration-color: #0087ff\">Dense</span>)             │                   │            │                   │\n",
       "└─────────────────────┴───────────────────┴────────────┴───────────────────┘\n",
       "</pre>\n"
      ],
      "text/plain": [
       "┏━━━━━━━━━━━━━━━━━━━━━┳━━━━━━━━━━━━━━━━━━━┳━━━━━━━━━━━━┳━━━━━━━━━━━━━━━━━━━┓\n",
       "┃\u001b[1m \u001b[0m\u001b[1mLayer (type)       \u001b[0m\u001b[1m \u001b[0m┃\u001b[1m \u001b[0m\u001b[1mOutput Shape     \u001b[0m\u001b[1m \u001b[0m┃\u001b[1m \u001b[0m\u001b[1m   Param #\u001b[0m\u001b[1m \u001b[0m┃\u001b[1m \u001b[0m\u001b[1mConnected to     \u001b[0m\u001b[1m \u001b[0m┃\n",
       "┡━━━━━━━━━━━━━━━━━━━━━╇━━━━━━━━━━━━━━━━━━━╇━━━━━━━━━━━━╇━━━━━━━━━━━━━━━━━━━┩\n",
       "│ attention_mask      │ (\u001b[38;5;45mNone\u001b[0m, \u001b[38;5;34m128\u001b[0m)       │          \u001b[38;5;34m0\u001b[0m │ -                 │\n",
       "│ (\u001b[38;5;33mInputLayer\u001b[0m)        │                   │            │                   │\n",
       "├─────────────────────┼───────────────────┼────────────┼───────────────────┤\n",
       "│ input_ids           │ (\u001b[38;5;45mNone\u001b[0m, \u001b[38;5;34m128\u001b[0m)       │          \u001b[38;5;34m0\u001b[0m │ -                 │\n",
       "│ (\u001b[38;5;33mInputLayer\u001b[0m)        │                   │            │                   │\n",
       "├─────────────────────┼───────────────────┼────────────┼───────────────────┤\n",
       "│ bert_feature_extra… │ (\u001b[38;5;45mNone\u001b[0m, \u001b[38;5;34m128\u001b[0m, \u001b[38;5;34m768\u001b[0m)  │          \u001b[38;5;34m0\u001b[0m │ attention_mask[\u001b[38;5;34m0\u001b[0m… │\n",
       "│ (\u001b[38;5;33mBertFeatureExtrac…\u001b[0m │                   │            │ input_ids[\u001b[38;5;34m0\u001b[0m][\u001b[38;5;34m0\u001b[0m]   │\n",
       "├─────────────────────┼───────────────────┼────────────┼───────────────────┤\n",
       "│ conv1d (\u001b[38;5;33mConv1D\u001b[0m)     │ (\u001b[38;5;45mNone\u001b[0m, \u001b[38;5;34m126\u001b[0m, \u001b[38;5;34m64\u001b[0m)   │    \u001b[38;5;34m147,520\u001b[0m │ bert_feature_ext… │\n",
       "├─────────────────────┼───────────────────┼────────────┼───────────────────┤\n",
       "│ global_max_pooling… │ (\u001b[38;5;45mNone\u001b[0m, \u001b[38;5;34m64\u001b[0m)        │          \u001b[38;5;34m0\u001b[0m │ conv1d[\u001b[38;5;34m0\u001b[0m][\u001b[38;5;34m0\u001b[0m]      │\n",
       "│ (\u001b[38;5;33mGlobalMaxPooling1…\u001b[0m │                   │            │                   │\n",
       "├─────────────────────┼───────────────────┼────────────┼───────────────────┤\n",
       "│ dropout (\u001b[38;5;33mDropout\u001b[0m)   │ (\u001b[38;5;45mNone\u001b[0m, \u001b[38;5;34m64\u001b[0m)        │          \u001b[38;5;34m0\u001b[0m │ global_max_pooli… │\n",
       "├─────────────────────┼───────────────────┼────────────┼───────────────────┤\n",
       "│ dense (\u001b[38;5;33mDense\u001b[0m)       │ (\u001b[38;5;45mNone\u001b[0m, \u001b[38;5;34m32\u001b[0m)        │      \u001b[38;5;34m2,080\u001b[0m │ dropout[\u001b[38;5;34m0\u001b[0m][\u001b[38;5;34m0\u001b[0m]     │\n",
       "├─────────────────────┼───────────────────┼────────────┼───────────────────┤\n",
       "│ dropout_1 (\u001b[38;5;33mDropout\u001b[0m) │ (\u001b[38;5;45mNone\u001b[0m, \u001b[38;5;34m32\u001b[0m)        │          \u001b[38;5;34m0\u001b[0m │ dense[\u001b[38;5;34m0\u001b[0m][\u001b[38;5;34m0\u001b[0m]       │\n",
       "├─────────────────────┼───────────────────┼────────────┼───────────────────┤\n",
       "│ classification      │ (\u001b[38;5;45mNone\u001b[0m, \u001b[38;5;34m1\u001b[0m)         │         \u001b[38;5;34m33\u001b[0m │ dropout_1[\u001b[38;5;34m0\u001b[0m][\u001b[38;5;34m0\u001b[0m]   │\n",
       "│ (\u001b[38;5;33mDense\u001b[0m)             │                   │            │                   │\n",
       "└─────────────────────┴───────────────────┴────────────┴───────────────────┘\n"
      ]
     },
     "metadata": {},
     "output_type": "display_data"
    },
    {
     "data": {
      "text/html": [
       "<pre style=\"white-space:pre;overflow-x:auto;line-height:normal;font-family:Menlo,'DejaVu Sans Mono',consolas,'Courier New',monospace\"><span style=\"font-weight: bold\"> Total params: </span><span style=\"color: #00af00; text-decoration-color: #00af00\">149,633</span> (584.50 KB)\n",
       "</pre>\n"
      ],
      "text/plain": [
       "\u001b[1m Total params: \u001b[0m\u001b[38;5;34m149,633\u001b[0m (584.50 KB)\n"
      ]
     },
     "metadata": {},
     "output_type": "display_data"
    },
    {
     "data": {
      "text/html": [
       "<pre style=\"white-space:pre;overflow-x:auto;line-height:normal;font-family:Menlo,'DejaVu Sans Mono',consolas,'Courier New',monospace\"><span style=\"font-weight: bold\"> Trainable params: </span><span style=\"color: #00af00; text-decoration-color: #00af00\">149,633</span> (584.50 KB)\n",
       "</pre>\n"
      ],
      "text/plain": [
       "\u001b[1m Trainable params: \u001b[0m\u001b[38;5;34m149,633\u001b[0m (584.50 KB)\n"
      ]
     },
     "metadata": {},
     "output_type": "display_data"
    },
    {
     "data": {
      "text/html": [
       "<pre style=\"white-space:pre;overflow-x:auto;line-height:normal;font-family:Menlo,'DejaVu Sans Mono',consolas,'Courier New',monospace\"><span style=\"font-weight: bold\"> Non-trainable params: </span><span style=\"color: #00af00; text-decoration-color: #00af00\">0</span> (0.00 B)\n",
       "</pre>\n"
      ],
      "text/plain": [
       "\u001b[1m Non-trainable params: \u001b[0m\u001b[38;5;34m0\u001b[0m (0.00 B)\n"
      ]
     },
     "metadata": {},
     "output_type": "display_data"
    }
   ],
   "source": [
    "# 2: DEFINING THE BERT-CNN MODEL (With Regularization)\n",
    "print(\"\\n Defining Tokenizer and BERT-CNN Model\")\n",
    "\n",
    "# Model Parameters\n",
    "MAX_LEN = 128\n",
    "MODEL_NAME = 'bert-base-uncased'\n",
    "\n",
    "bert_tokenizer = BertTokenizer.from_pretrained(MODEL_NAME)\n",
    "\n",
    "def tokenize_data(X, tokenizer, max_len):\n",
    "    \"\"\"Tokenizes a list of texts.\"\"\"\n",
    "    return tokenizer(\n",
    "        text=list(X), add_special_tokens=True, max_length=max_len,\n",
    "        truncation=True, padding='max_length', return_tensors='tf',\n",
    "        return_attention_mask=True, verbose=False\n",
    "    )\n",
    "\n",
    "class BertFeatureExtractor(Layer):\n",
    "    \"\"\"Custom Keras layer for BERT feature extraction.\"\"\"\n",
    "    def __init__(self, model_name='bert-base-uncased', **kwargs):\n",
    "        super(BertFeatureExtractor, self).__init__(**kwargs)\n",
    "        self.model_name = model_name\n",
    "        self.bert = TFBertModel.from_pretrained(self.model_name, from_pt=True)\n",
    "        self.bert.trainable = False\n",
    "\n",
    "    def call(self, inputs):\n",
    "        return self.bert(inputs).last_hidden_state\n",
    "\n",
    "    def get_config(self):\n",
    "        config = super().get_config()\n",
    "        config.update({\"model_name\": self.model_name})\n",
    "        return config\n",
    "\n",
    "def create_bert_cnn_model(max_len=MAX_LEN, bert_model_name=MODEL_NAME):\n",
    "    \"\"\"Creates the combined BERT and CNN model.\"\"\"\n",
    "    input_ids = Input(shape=(max_len,), dtype=tf.int32, name=\"input_ids\")\n",
    "    attention_mask = Input(shape=(max_len,), dtype=tf.int32, name=\"attention_mask\")\n",
    "\n",
    "    bert_extractor = BertFeatureExtractor(model_name=bert_model_name)\n",
    "    bert_output = bert_extractor({'input_ids': input_ids, 'attention_mask': attention_mask})\n",
    "\n",
    "    cnn_layer = Conv1D(filters=64, kernel_size=3, padding=\"valid\", activation=\"relu\")(bert_output)\n",
    "    pooling_layer = GlobalMaxPooling1D()(cnn_layer)\n",
    "    x = Dropout(0.6)(pooling_layer)\n",
    "    x = Dense(32, activation=\"tanh\")(x)\n",
    "    x = Dropout(0.6)(x)\n",
    "    output = Dense(1, activation=\"sigmoid\", name=\"classification\")(x)\n",
    "\n",
    "    model = Model(inputs=[input_ids, attention_mask], outputs=output)\n",
    "    return model\n",
    "\n",
    "# Display the summary\n",
    "model_for_summary = create_bert_cnn_model()\n",
    "print(\"\\nBERT-CNN Model Architecture:\")\n",
    "model_for_summary.summary()\n",
    "del model_for_summary # Clean up\n"
   ]
  },
  {
   "cell_type": "code",
   "execution_count": null,
   "metadata": {
    "colab": {
     "base_uri": "https://localhost:8080/"
    },
    "executionInfo": {
     "elapsed": 17972938,
     "status": "ok",
     "timestamp": 1758369996478,
     "user": {
      "displayName": "Artemis Papaspyrou",
      "userId": "18188189575963929921"
     },
     "user_tz": -180
    },
    "id": "IW6CzTYDaBuW",
    "outputId": "911915cb-54dc-41c7-ef43-01354cdec038"
   },
   "outputs": [
    {
     "name": "stderr",
     "output_type": "stream",
     "text": [
      "TensorFlow and JAX classes are deprecated and will be removed in Transformers v5. We recommend migrating to PyTorch classes or pinning your version of Transformers.\n"
     ]
    },
    {
     "name": "stdout",
     "output_type": "stream",
     "text": [
      "\n",
      " K-Fold Cross-Validation\n",
      "\n",
      "===== FOLD 1/5 =====\n"
     ]
    },
    {
     "name": "stderr",
     "output_type": "stream",
     "text": [
      "Some weights of the PyTorch model were not used when initializing the TF 2.0 model TFBertModel: ['cls.predictions.transform.dense.bias', 'cls.predictions.transform.LayerNorm.weight', 'cls.seq_relationship.bias', 'cls.predictions.transform.LayerNorm.bias', 'cls.predictions.bias', 'cls.seq_relationship.weight', 'cls.predictions.decoder.weight', 'cls.predictions.transform.dense.weight']\n",
      "- This IS expected if you are initializing TFBertModel from a PyTorch model trained on another task or with another architecture (e.g. initializing a TFBertForSequenceClassification model from a BertForPreTraining model).\n",
      "- This IS NOT expected if you are initializing TFBertModel from a PyTorch model that you expect to be exactly identical (e.g. initializing a TFBertForSequenceClassification model from a BertForSequenceClassification model).\n",
      "All the weights of TFBertModel were initialized from the PyTorch model.\n",
      "If your task is similar to the task the model of the checkpoint was trained on, you can already use TFBertModel for predictions without further training.\n"
     ]
    },
    {
     "name": "stdout",
     "output_type": "stream",
     "text": [
      "Epoch 1/10\n",
      "\u001b[1m1011/1011\u001b[0m \u001b[32m━━━━━━━━━━━━━━━━━━━━\u001b[0m\u001b[37m\u001b[0m \u001b[1m352s\u001b[0m 327ms/step - accuracy: 0.5339 - loss: 0.9240 - val_accuracy: 0.9230 - val_loss: 0.3368 - learning_rate: 2.0000e-05\n",
      "Epoch 2/10\n",
      "\u001b[1m1011/1011\u001b[0m \u001b[32m━━━━━━━━━━━━━━━━━━━━\u001b[0m\u001b[37m\u001b[0m \u001b[1m321s\u001b[0m 318ms/step - accuracy: 0.6815 - loss: 0.6229 - val_accuracy: 0.9396 - val_loss: 0.2044 - learning_rate: 2.0000e-05\n",
      "Epoch 3/10\n",
      "\u001b[1m1011/1011\u001b[0m \u001b[32m━━━━━━━━━━━━━━━━━━━━\u001b[0m\u001b[37m\u001b[0m \u001b[1m322s\u001b[0m 318ms/step - accuracy: 0.8283 - loss: 0.3905 - val_accuracy: 0.9465 - val_loss: 0.1655 - learning_rate: 2.0000e-05\n",
      "Epoch 4/10\n",
      "\u001b[1m1011/1011\u001b[0m \u001b[32m━━━━━━━━━━━━━━━━━━━━\u001b[0m\u001b[37m\u001b[0m \u001b[1m322s\u001b[0m 318ms/step - accuracy: 0.8911 - loss: 0.2892 - val_accuracy: 0.9555 - val_loss: 0.1353 - learning_rate: 2.0000e-05\n",
      "Epoch 5/10\n",
      "\u001b[1m1011/1011\u001b[0m \u001b[32m━━━━━━━━━━━━━━━━━━━━\u001b[0m\u001b[37m\u001b[0m \u001b[1m322s\u001b[0m 318ms/step - accuracy: 0.9201 - loss: 0.2333 - val_accuracy: 0.9623 - val_loss: 0.1148 - learning_rate: 2.0000e-05\n",
      "Epoch 6/10\n",
      "\u001b[1m1011/1011\u001b[0m \u001b[32m━━━━━━━━━━━━━━━━━━━━\u001b[0m\u001b[37m\u001b[0m \u001b[1m301s\u001b[0m 297ms/step - accuracy: 0.9347 - loss: 0.1988 - val_accuracy: 0.9665 - val_loss: 0.0981 - learning_rate: 2.0000e-05\n",
      "Epoch 7/10\n",
      "\u001b[1m1011/1011\u001b[0m \u001b[32m━━━━━━━━━━━━━━━━━━━━\u001b[0m\u001b[37m\u001b[0m \u001b[1m321s\u001b[0m 318ms/step - accuracy: 0.9472 - loss: 0.1660 - val_accuracy: 0.9701 - val_loss: 0.0871 - learning_rate: 2.0000e-05\n",
      "Epoch 8/10\n",
      "\u001b[1m1011/1011\u001b[0m \u001b[32m━━━━━━━━━━━━━━━━━━━━\u001b[0m\u001b[37m\u001b[0m \u001b[1m322s\u001b[0m 318ms/step - accuracy: 0.9550 - loss: 0.1426 - val_accuracy: 0.9725 - val_loss: 0.0785 - learning_rate: 2.0000e-05\n",
      "Epoch 9/10\n",
      "\u001b[1m1011/1011\u001b[0m \u001b[32m━━━━━━━━━━━━━━━━━━━━\u001b[0m\u001b[37m\u001b[0m \u001b[1m322s\u001b[0m 318ms/step - accuracy: 0.9586 - loss: 0.1291 - val_accuracy: 0.9745 - val_loss: 0.0705 - learning_rate: 2.0000e-05\n",
      "Epoch 10/10\n",
      "\u001b[1m1011/1011\u001b[0m \u001b[32m━━━━━━━━━━━━━━━━━━━━\u001b[0m\u001b[37m\u001b[0m \u001b[1m322s\u001b[0m 318ms/step - accuracy: 0.9639 - loss: 0.1159 - val_accuracy: 0.9762 - val_loss: 0.0642 - learning_rate: 2.0000e-05\n",
      "Restoring model weights from the end of the best epoch: 10.\n",
      "Fold 1 Best Validation Accuracy: 0.9762\n",
      "Fold 1 Best Validation Loss: 0.0642\n",
      "\n",
      "===== FOLD 2/5 =====\n"
     ]
    },
    {
     "name": "stderr",
     "output_type": "stream",
     "text": [
      "Some weights of the PyTorch model were not used when initializing the TF 2.0 model TFBertModel: ['cls.predictions.transform.dense.bias', 'cls.predictions.transform.LayerNorm.weight', 'cls.seq_relationship.bias', 'cls.predictions.transform.LayerNorm.bias', 'cls.predictions.bias', 'cls.seq_relationship.weight', 'cls.predictions.decoder.weight', 'cls.predictions.transform.dense.weight']\n",
      "- This IS expected if you are initializing TFBertModel from a PyTorch model trained on another task or with another architecture (e.g. initializing a TFBertForSequenceClassification model from a BertForPreTraining model).\n",
      "- This IS NOT expected if you are initializing TFBertModel from a PyTorch model that you expect to be exactly identical (e.g. initializing a TFBertForSequenceClassification model from a BertForSequenceClassification model).\n",
      "All the weights of TFBertModel were initialized from the PyTorch model.\n",
      "If your task is similar to the task the model of the checkpoint was trained on, you can already use TFBertModel for predictions without further training.\n"
     ]
    },
    {
     "name": "stdout",
     "output_type": "stream",
     "text": [
      "Epoch 1/10\n",
      "\u001b[1m1011/1011\u001b[0m \u001b[32m━━━━━━━━━━━━━━━━━━━━\u001b[0m\u001b[37m\u001b[0m \u001b[1m334s\u001b[0m 312ms/step - accuracy: 0.5173 - loss: 0.8973 - val_accuracy: 0.8983 - val_loss: 0.3875 - learning_rate: 2.0000e-05\n",
      "Epoch 2/10\n",
      "\u001b[1m1011/1011\u001b[0m \u001b[32m━━━━━━━━━━━━━━━━━━━━\u001b[0m\u001b[37m\u001b[0m \u001b[1m321s\u001b[0m 318ms/step - accuracy: 0.6789 - loss: 0.6065 - val_accuracy: 0.9318 - val_loss: 0.2243 - learning_rate: 2.0000e-05\n",
      "Epoch 3/10\n",
      "\u001b[1m1011/1011\u001b[0m \u001b[32m━━━━━━━━━━━━━━━━━━━━\u001b[0m\u001b[37m\u001b[0m \u001b[1m322s\u001b[0m 318ms/step - accuracy: 0.8478 - loss: 0.3635 - val_accuracy: 0.9478 - val_loss: 0.1651 - learning_rate: 2.0000e-05\n",
      "Epoch 4/10\n",
      "\u001b[1m1011/1011\u001b[0m \u001b[32m━━━━━━━━━━━━━━━━━━━━\u001b[0m\u001b[37m\u001b[0m \u001b[1m322s\u001b[0m 318ms/step - accuracy: 0.9110 - loss: 0.2641 - val_accuracy: 0.9564 - val_loss: 0.1291 - learning_rate: 2.0000e-05\n",
      "Epoch 5/10\n",
      "\u001b[1m1011/1011\u001b[0m \u001b[32m━━━━━━━━━━━━━━━━━━━━\u001b[0m\u001b[37m\u001b[0m \u001b[1m322s\u001b[0m 318ms/step - accuracy: 0.9294 - loss: 0.2175 - val_accuracy: 0.9639 - val_loss: 0.1071 - learning_rate: 2.0000e-05\n",
      "Epoch 6/10\n",
      "\u001b[1m1011/1011\u001b[0m \u001b[32m━━━━━━━━━━━━━━━━━━━━\u001b[0m\u001b[37m\u001b[0m \u001b[1m322s\u001b[0m 318ms/step - accuracy: 0.9419 - loss: 0.1792 - val_accuracy: 0.9673 - val_loss: 0.0916 - learning_rate: 2.0000e-05\n",
      "Epoch 7/10\n",
      "\u001b[1m1011/1011\u001b[0m \u001b[32m━━━━━━━━━━━━━━━━━━━━\u001b[0m\u001b[37m\u001b[0m \u001b[1m322s\u001b[0m 318ms/step - accuracy: 0.9528 - loss: 0.1542 - val_accuracy: 0.9718 - val_loss: 0.0813 - learning_rate: 2.0000e-05\n",
      "Epoch 8/10\n",
      "\u001b[1m1011/1011\u001b[0m \u001b[32m━━━━━━━━━━━━━━━━━━━━\u001b[0m\u001b[37m\u001b[0m \u001b[1m322s\u001b[0m 318ms/step - accuracy: 0.9571 - loss: 0.1410 - val_accuracy: 0.9748 - val_loss: 0.0727 - learning_rate: 2.0000e-05\n",
      "Epoch 9/10\n",
      "\u001b[1m1011/1011\u001b[0m \u001b[32m━━━━━━━━━━━━━━━━━━━━\u001b[0m\u001b[37m\u001b[0m \u001b[1m300s\u001b[0m 296ms/step - accuracy: 0.9628 - loss: 0.1226 - val_accuracy: 0.9771 - val_loss: 0.0655 - learning_rate: 2.0000e-05\n",
      "Epoch 10/10\n",
      "\u001b[1m1011/1011\u001b[0m \u001b[32m━━━━━━━━━━━━━━━━━━━━\u001b[0m\u001b[37m\u001b[0m \u001b[1m344s\u001b[0m 318ms/step - accuracy: 0.9661 - loss: 0.1137 - val_accuracy: 0.9795 - val_loss: 0.0596 - learning_rate: 2.0000e-05\n",
      "Restoring model weights from the end of the best epoch: 10.\n",
      "Fold 2 Best Validation Accuracy: 0.9795\n",
      "Fold 2 Best Validation Loss: 0.0596\n",
      "\n",
      "===== FOLD 3/5 =====\n"
     ]
    },
    {
     "name": "stderr",
     "output_type": "stream",
     "text": [
      "Some weights of the PyTorch model were not used when initializing the TF 2.0 model TFBertModel: ['cls.predictions.transform.dense.bias', 'cls.predictions.transform.LayerNorm.weight', 'cls.seq_relationship.bias', 'cls.predictions.transform.LayerNorm.bias', 'cls.predictions.bias', 'cls.seq_relationship.weight', 'cls.predictions.decoder.weight', 'cls.predictions.transform.dense.weight']\n",
      "- This IS expected if you are initializing TFBertModel from a PyTorch model trained on another task or with another architecture (e.g. initializing a TFBertForSequenceClassification model from a BertForPreTraining model).\n",
      "- This IS NOT expected if you are initializing TFBertModel from a PyTorch model that you expect to be exactly identical (e.g. initializing a TFBertForSequenceClassification model from a BertForSequenceClassification model).\n",
      "All the weights of TFBertModel were initialized from the PyTorch model.\n",
      "If your task is similar to the task the model of the checkpoint was trained on, you can already use TFBertModel for predictions without further training.\n"
     ]
    },
    {
     "name": "stdout",
     "output_type": "stream",
     "text": [
      "Epoch 1/10\n",
      "\u001b[1m1011/1011\u001b[0m \u001b[32m━━━━━━━━━━━━━━━━━━━━\u001b[0m\u001b[37m\u001b[0m \u001b[1m334s\u001b[0m 313ms/step - accuracy: 0.5339 - loss: 0.9571 - val_accuracy: 0.8979 - val_loss: 0.3958 - learning_rate: 2.0000e-05\n",
      "Epoch 2/10\n",
      "\u001b[1m1011/1011\u001b[0m \u001b[32m━━━━━━━━━━━━━━━━━━━━\u001b[0m\u001b[37m\u001b[0m \u001b[1m381s\u001b[0m 318ms/step - accuracy: 0.6626 - loss: 0.6765 - val_accuracy: 0.9409 - val_loss: 0.1976 - learning_rate: 2.0000e-05\n",
      "Epoch 3/10\n",
      "\u001b[1m1011/1011\u001b[0m \u001b[32m━━━━━━━━━━━━━━━━━━━━\u001b[0m\u001b[37m\u001b[0m \u001b[1m300s\u001b[0m 296ms/step - accuracy: 0.8368 - loss: 0.3711 - val_accuracy: 0.9525 - val_loss: 0.1534 - learning_rate: 2.0000e-05\n",
      "Epoch 4/10\n",
      "\u001b[1m1011/1011\u001b[0m \u001b[32m━━━━━━━━━━━━━━━━━━━━\u001b[0m\u001b[37m\u001b[0m \u001b[1m343s\u001b[0m 318ms/step - accuracy: 0.8983 - loss: 0.2679 - val_accuracy: 0.9579 - val_loss: 0.1271 - learning_rate: 2.0000e-05\n",
      "Epoch 5/10\n",
      "\u001b[1m1011/1011\u001b[0m \u001b[32m━━━━━━━━━━━━━━━━━━━━\u001b[0m\u001b[37m\u001b[0m \u001b[1m322s\u001b[0m 317ms/step - accuracy: 0.9243 - loss: 0.2186 - val_accuracy: 0.9633 - val_loss: 0.1080 - learning_rate: 2.0000e-05\n",
      "Epoch 6/10\n",
      "\u001b[1m1011/1011\u001b[0m \u001b[32m━━━━━━━━━━━━━━━━━━━━\u001b[0m\u001b[37m\u001b[0m \u001b[1m321s\u001b[0m 318ms/step - accuracy: 0.9378 - loss: 0.1825 - val_accuracy: 0.9688 - val_loss: 0.0949 - learning_rate: 2.0000e-05\n",
      "Epoch 7/10\n",
      "\u001b[1m1011/1011\u001b[0m \u001b[32m━━━━━━━━━━━━━━━━━━━━\u001b[0m\u001b[37m\u001b[0m \u001b[1m300s\u001b[0m 296ms/step - accuracy: 0.9473 - loss: 0.1559 - val_accuracy: 0.9714 - val_loss: 0.0850 - learning_rate: 2.0000e-05\n",
      "Epoch 8/10\n",
      "\u001b[1m1011/1011\u001b[0m \u001b[32m━━━━━━━━━━━━━━━━━━━━\u001b[0m\u001b[37m\u001b[0m \u001b[1m344s\u001b[0m 318ms/step - accuracy: 0.9558 - loss: 0.1368 - val_accuracy: 0.9741 - val_loss: 0.0772 - learning_rate: 2.0000e-05\n",
      "Epoch 9/10\n",
      "\u001b[1m1011/1011\u001b[0m \u001b[32m━━━━━━━━━━━━━━━━━━━━\u001b[0m\u001b[37m\u001b[0m \u001b[1m321s\u001b[0m 318ms/step - accuracy: 0.9609 - loss: 0.1255 - val_accuracy: 0.9762 - val_loss: 0.0719 - learning_rate: 2.0000e-05\n",
      "Epoch 10/10\n",
      "\u001b[1m1011/1011\u001b[0m \u001b[32m━━━━━━━━━━━━━━━━━━━━\u001b[0m\u001b[37m\u001b[0m \u001b[1m322s\u001b[0m 318ms/step - accuracy: 0.9659 - loss: 0.1103 - val_accuracy: 0.9776 - val_loss: 0.0663 - learning_rate: 2.0000e-05\n",
      "Restoring model weights from the end of the best epoch: 10.\n",
      "Fold 3 Best Validation Accuracy: 0.9776\n",
      "Fold 3 Best Validation Loss: 0.0663\n",
      "\n",
      "===== FOLD 4/5 =====\n"
     ]
    },
    {
     "name": "stderr",
     "output_type": "stream",
     "text": [
      "Some weights of the PyTorch model were not used when initializing the TF 2.0 model TFBertModel: ['cls.predictions.transform.dense.bias', 'cls.predictions.transform.LayerNorm.weight', 'cls.seq_relationship.bias', 'cls.predictions.transform.LayerNorm.bias', 'cls.predictions.bias', 'cls.seq_relationship.weight', 'cls.predictions.decoder.weight', 'cls.predictions.transform.dense.weight']\n",
      "- This IS expected if you are initializing TFBertModel from a PyTorch model trained on another task or with another architecture (e.g. initializing a TFBertForSequenceClassification model from a BertForPreTraining model).\n",
      "- This IS NOT expected if you are initializing TFBertModel from a PyTorch model that you expect to be exactly identical (e.g. initializing a TFBertForSequenceClassification model from a BertForSequenceClassification model).\n",
      "All the weights of TFBertModel were initialized from the PyTorch model.\n",
      "If your task is similar to the task the model of the checkpoint was trained on, you can already use TFBertModel for predictions without further training.\n"
     ]
    },
    {
     "name": "stdout",
     "output_type": "stream",
     "text": [
      "Epoch 1/10\n",
      "\u001b[1m1011/1011\u001b[0m \u001b[32m━━━━━━━━━━━━━━━━━━━━\u001b[0m\u001b[37m\u001b[0m \u001b[1m350s\u001b[0m 329ms/step - accuracy: 0.5451 - loss: 0.8985 - val_accuracy: 0.9280 - val_loss: 0.2907 - learning_rate: 2.0000e-05\n",
      "Epoch 2/10\n",
      "\u001b[1m1011/1011\u001b[0m \u001b[32m━━━━━━━━━━━━━━━━━━━━\u001b[0m\u001b[37m\u001b[0m \u001b[1m365s\u001b[0m 318ms/step - accuracy: 0.7294 - loss: 0.5497 - val_accuracy: 0.9469 - val_loss: 0.1748 - learning_rate: 2.0000e-05\n",
      "Epoch 3/10\n",
      "\u001b[1m1011/1011\u001b[0m \u001b[32m━━━━━━━━━━━━━━━━━━━━\u001b[0m\u001b[37m\u001b[0m \u001b[1m322s\u001b[0m 318ms/step - accuracy: 0.8659 - loss: 0.3304 - val_accuracy: 0.9562 - val_loss: 0.1417 - learning_rate: 2.0000e-05\n",
      "Epoch 4/10\n",
      "\u001b[1m1011/1011\u001b[0m \u001b[32m━━━━━━━━━━━━━━━━━━━━\u001b[0m\u001b[37m\u001b[0m \u001b[1m322s\u001b[0m 318ms/step - accuracy: 0.9126 - loss: 0.2473 - val_accuracy: 0.9629 - val_loss: 0.1174 - learning_rate: 2.0000e-05\n",
      "Epoch 5/10\n",
      "\u001b[1m1011/1011\u001b[0m \u001b[32m━━━━━━━━━━━━━━━━━━━━\u001b[0m\u001b[37m\u001b[0m \u001b[1m300s\u001b[0m 297ms/step - accuracy: 0.9321 - loss: 0.2070 - val_accuracy: 0.9675 - val_loss: 0.1015 - learning_rate: 2.0000e-05\n",
      "Epoch 6/10\n",
      "\u001b[1m1011/1011\u001b[0m \u001b[32m━━━━━━━━━━━━━━━━━━━━\u001b[0m\u001b[37m\u001b[0m \u001b[1m344s\u001b[0m 318ms/step - accuracy: 0.9418 - loss: 0.1850 - val_accuracy: 0.9709 - val_loss: 0.0875 - learning_rate: 2.0000e-05\n",
      "Epoch 7/10\n",
      "\u001b[1m1011/1011\u001b[0m \u001b[32m━━━━━━━━━━━━━━━━━━━━\u001b[0m\u001b[37m\u001b[0m \u001b[1m300s\u001b[0m 297ms/step - accuracy: 0.9493 - loss: 0.1615 - val_accuracy: 0.9734 - val_loss: 0.0788 - learning_rate: 2.0000e-05\n",
      "Epoch 8/10\n",
      "\u001b[1m1011/1011\u001b[0m \u001b[32m━━━━━━━━━━━━━━━━━━━━\u001b[0m\u001b[37m\u001b[0m \u001b[1m343s\u001b[0m 318ms/step - accuracy: 0.9568 - loss: 0.1430 - val_accuracy: 0.9759 - val_loss: 0.0714 - learning_rate: 2.0000e-05\n",
      "Epoch 9/10\n",
      "\u001b[1m1011/1011\u001b[0m \u001b[32m━━━━━━━━━━━━━━━━━━━━\u001b[0m\u001b[37m\u001b[0m \u001b[1m322s\u001b[0m 318ms/step - accuracy: 0.9624 - loss: 0.1250 - val_accuracy: 0.9777 - val_loss: 0.0650 - learning_rate: 2.0000e-05\n",
      "Epoch 10/10\n",
      "\u001b[1m1011/1011\u001b[0m \u001b[32m━━━━━━━━━━━━━━━━━━━━\u001b[0m\u001b[37m\u001b[0m \u001b[1m322s\u001b[0m 318ms/step - accuracy: 0.9679 - loss: 0.1102 - val_accuracy: 0.9795 - val_loss: 0.0609 - learning_rate: 2.0000e-05\n",
      "Restoring model weights from the end of the best epoch: 10.\n",
      "Fold 4 Best Validation Accuracy: 0.9795\n",
      "Fold 4 Best Validation Loss: 0.0609\n",
      "\n",
      "===== FOLD 5/5 =====\n"
     ]
    },
    {
     "name": "stderr",
     "output_type": "stream",
     "text": [
      "Some weights of the PyTorch model were not used when initializing the TF 2.0 model TFBertModel: ['cls.predictions.transform.dense.bias', 'cls.predictions.transform.LayerNorm.weight', 'cls.seq_relationship.bias', 'cls.predictions.transform.LayerNorm.bias', 'cls.predictions.bias', 'cls.seq_relationship.weight', 'cls.predictions.decoder.weight', 'cls.predictions.transform.dense.weight']\n",
      "- This IS expected if you are initializing TFBertModel from a PyTorch model trained on another task or with another architecture (e.g. initializing a TFBertForSequenceClassification model from a BertForPreTraining model).\n",
      "- This IS NOT expected if you are initializing TFBertModel from a PyTorch model that you expect to be exactly identical (e.g. initializing a TFBertForSequenceClassification model from a BertForSequenceClassification model).\n",
      "All the weights of TFBertModel were initialized from the PyTorch model.\n",
      "If your task is similar to the task the model of the checkpoint was trained on, you can already use TFBertModel for predictions without further training.\n"
     ]
    },
    {
     "name": "stdout",
     "output_type": "stream",
     "text": [
      "Epoch 1/10\n",
      "\u001b[1m1011/1011\u001b[0m \u001b[32m━━━━━━━━━━━━━━━━━━━━\u001b[0m\u001b[37m\u001b[0m \u001b[1m335s\u001b[0m 313ms/step - accuracy: 0.5336 - loss: 0.8870 - val_accuracy: 0.8818 - val_loss: 0.4400 - learning_rate: 2.0000e-05\n",
      "Epoch 2/10\n",
      "\u001b[1m1011/1011\u001b[0m \u001b[32m━━━━━━━━━━━━━━━━━━━━\u001b[0m\u001b[37m\u001b[0m \u001b[1m380s\u001b[0m 318ms/step - accuracy: 0.6489 - loss: 0.6673 - val_accuracy: 0.9364 - val_loss: 0.2332 - learning_rate: 2.0000e-05\n",
      "Epoch 3/10\n",
      "\u001b[1m1011/1011\u001b[0m \u001b[32m━━━━━━━━━━━━━━━━━━━━\u001b[0m\u001b[37m\u001b[0m \u001b[1m322s\u001b[0m 318ms/step - accuracy: 0.8268 - loss: 0.3957 - val_accuracy: 0.9505 - val_loss: 0.1698 - learning_rate: 2.0000e-05\n",
      "Epoch 4/10\n",
      "\u001b[1m1011/1011\u001b[0m \u001b[32m━━━━━━━━━━━━━━━━━━━━\u001b[0m\u001b[37m\u001b[0m \u001b[1m322s\u001b[0m 318ms/step - accuracy: 0.8950 - loss: 0.2872 - val_accuracy: 0.9582 - val_loss: 0.1339 - learning_rate: 2.0000e-05\n",
      "Epoch 5/10\n",
      "\u001b[1m1011/1011\u001b[0m \u001b[32m━━━━━━━━━━━━━━━━━━━━\u001b[0m\u001b[37m\u001b[0m \u001b[1m322s\u001b[0m 318ms/step - accuracy: 0.9202 - loss: 0.2329 - val_accuracy: 0.9630 - val_loss: 0.1109 - learning_rate: 2.0000e-05\n",
      "Epoch 6/10\n",
      "\u001b[1m1011/1011\u001b[0m \u001b[32m━━━━━━━━━━━━━━━━━━━━\u001b[0m\u001b[37m\u001b[0m \u001b[1m322s\u001b[0m 318ms/step - accuracy: 0.9393 - loss: 0.1929 - val_accuracy: 0.9666 - val_loss: 0.0955 - learning_rate: 2.0000e-05\n",
      "Epoch 7/10\n",
      "\u001b[1m1011/1011\u001b[0m \u001b[32m━━━━━━━━━━━━━━━━━━━━\u001b[0m\u001b[37m\u001b[0m \u001b[1m322s\u001b[0m 318ms/step - accuracy: 0.9475 - loss: 0.1700 - val_accuracy: 0.9701 - val_loss: 0.0843 - learning_rate: 2.0000e-05\n",
      "Epoch 8/10\n",
      "\u001b[1m1011/1011\u001b[0m \u001b[32m━━━━━━━━━━━━━━━━━━━━\u001b[0m\u001b[37m\u001b[0m \u001b[1m322s\u001b[0m 318ms/step - accuracy: 0.9561 - loss: 0.1452 - val_accuracy: 0.9743 - val_loss: 0.0752 - learning_rate: 2.0000e-05\n",
      "Epoch 9/10\n",
      "\u001b[1m1011/1011\u001b[0m \u001b[32m━━━━━━━━━━━━━━━━━━━━\u001b[0m\u001b[37m\u001b[0m \u001b[1m321s\u001b[0m 318ms/step - accuracy: 0.9612 - loss: 0.1271 - val_accuracy: 0.9770 - val_loss: 0.0682 - learning_rate: 2.0000e-05\n",
      "Epoch 10/10\n",
      "\u001b[1m1011/1011\u001b[0m \u001b[32m━━━━━━━━━━━━━━━━━━━━\u001b[0m\u001b[37m\u001b[0m \u001b[1m322s\u001b[0m 318ms/step - accuracy: 0.9639 - loss: 0.1153 - val_accuracy: 0.9787 - val_loss: 0.0617 - learning_rate: 2.0000e-05\n",
      "Restoring model weights from the end of the best epoch: 10.\n",
      "Fold 5 Best Validation Accuracy: 0.9787\n",
      "Fold 5 Best Validation Loss: 0.0617\n",
      "\n",
      "--- Cross-Validation Summary ---\n",
      "Average Validation Accuracy: 0.9783 +/- 0.0012\n",
      "Average Validation Loss:     0.0625 +/- 0.0024\n"
     ]
    }
   ],
   "source": [
    "# 3. K-FOLD CROSS-VALIDATION\n",
    "print(\"\\n K-Fold Cross-Validation\")\n",
    "\n",
    "# First, split off a final held-out test set (10% of the data)\n",
    "X = df['content']\n",
    "y = df['label']\n",
    "X_train_val, X_test, y_train_val, y_test = train_test_split(\n",
    "    X, y, test_size=0.1, random_state=42, stratify=y\n",
    ")\n",
    "\n",
    "# K-Fold Parameters\n",
    "N_SPLITS = 5  # Number of folds\n",
    "skf = StratifiedKFold(n_splits=N_SPLITS, shuffle=True, random_state=42)\n",
    "\n",
    "# Store scores from each fold\n",
    "cv_val_accuracies = []\n",
    "cv_val_losses = []\n",
    "\n",
    "# K-Fold Loop\n",
    "for fold, (train_idx, val_idx) in enumerate(skf.split(X_train_val, y_train_val)):\n",
    "    print(f\"\\n===== FOLD {fold + 1}/{N_SPLITS} =====\")\n",
    "\n",
    "    # 1. Get data for the current fold\n",
    "    X_train_fold = X_train_val.iloc[train_idx]\n",
    "    y_train_fold = y_train_val.iloc[train_idx]\n",
    "    X_val_fold = X_train_val.iloc[val_idx]\n",
    "    y_val_fold = y_train_val.iloc[val_idx]\n",
    "\n",
    "    # 2. Tokenize the fold data\n",
    "    X_train_token = tokenize_data(X_train_fold, bert_tokenizer, MAX_LEN)\n",
    "    X_val_token = tokenize_data(X_val_fold, bert_tokenizer, MAX_LEN)\n",
    "\n",
    "    # 3. Create trained model for each fold\n",
    "    model = create_bert_cnn_model()\n",
    "\n",
    "    # 4. Compile the model\n",
    "    optimizer = Adam(learning_rate=2e-5, epsilon=1e-08)\n",
    "    model.compile(optimizer=optimizer, loss='binary_crossentropy', metrics=['accuracy'])\n",
    "\n",
    "    # 5. Define Callbacks\n",
    "    early_stopping = EarlyStopping(monitor='val_loss', patience=2, restore_best_weights=True, verbose=1)\n",
    "    reduce_lr = ReduceLROnPlateau(monitor='val_loss', factor=0.2, patience=1, verbose=1, min_lr=1e-7)\n",
    "\n",
    "    # 6. Train the model\n",
    "    history = model.fit(\n",
    "        x={'input_ids': X_train_token['input_ids'], 'attention_mask': X_train_token['attention_mask']},\n",
    "        y=y_train_fold,\n",
    "        validation_data=(\n",
    "            {'input_ids': X_val_token['input_ids'], 'attention_mask': X_val_token['attention_mask']},\n",
    "            y_val_fold\n",
    "        ),\n",
    "        epochs=10,\n",
    "        batch_size=32,\n",
    "        callbacks=[early_stopping, reduce_lr],\n",
    "        verbose=1\n",
    "    )\n",
    "\n",
    "    # 7. Store the best validation score for this fold\n",
    "    best_val_loss_idx = np.argmin(history.history['val_loss'])\n",
    "    best_val_accuracy = history.history['val_accuracy'][best_val_loss_idx]\n",
    "    best_val_loss = history.history['val_loss'][best_val_loss_idx]\n",
    "\n",
    "    cv_val_accuracies.append(best_val_accuracy)\n",
    "    cv_val_losses.append(best_val_loss)\n",
    "    print(f\"Fold {fold + 1} Best Validation Accuracy: {best_val_accuracy:.4f}\")\n",
    "    print(f\"Fold {fold + 1} Best Validation Loss: {best_val_loss:.4f}\")\n",
    "\n",
    "\n",
    "# Report Cross-Validation Results\n",
    "print(\"\\n--- Cross-Validation Summary ---\")\n",
    "print(f\"Average Validation Accuracy: {np.mean(cv_val_accuracies):.4f} +/- {np.std(cv_val_accuracies):.4f}\")\n",
    "print(f\"Average Validation Loss:     {np.mean(cv_val_losses):.4f} +/- {np.std(cv_val_losses):.4f}\")"
   ]
  },
  {
   "cell_type": "code",
   "execution_count": null,
   "metadata": {
    "colab": {
     "base_uri": "https://localhost:8080/"
    },
    "executionInfo": {
     "elapsed": 1305616,
     "status": "ok",
     "timestamp": 1758371302137,
     "user": {
      "displayName": "Artemis Papaspyrou",
      "userId": "18188189575963929921"
     },
     "user_tz": -180
    },
    "id": "-TVylmf0aFD-",
    "outputId": "625075b6-71df-43e4-eb24-7384476ea1f9"
   },
   "outputs": [
    {
     "name": "stdout",
     "output_type": "stream",
     "text": [
      "\n",
      " Training Final Model on Full Training Data\n",
      "Tokenizing all training data...\n"
     ]
    },
    {
     "name": "stderr",
     "output_type": "stream",
     "text": [
      "Some weights of the PyTorch model were not used when initializing the TF 2.0 model TFBertModel: ['cls.predictions.transform.dense.bias', 'cls.predictions.transform.LayerNorm.weight', 'cls.seq_relationship.bias', 'cls.predictions.transform.LayerNorm.bias', 'cls.predictions.bias', 'cls.seq_relationship.weight', 'cls.predictions.decoder.weight', 'cls.predictions.transform.dense.weight']\n",
      "- This IS expected if you are initializing TFBertModel from a PyTorch model trained on another task or with another architecture (e.g. initializing a TFBertForSequenceClassification model from a BertForPreTraining model).\n",
      "- This IS NOT expected if you are initializing TFBertModel from a PyTorch model that you expect to be exactly identical (e.g. initializing a TFBertForSequenceClassification model from a BertForSequenceClassification model).\n",
      "All the weights of TFBertModel were initialized from the PyTorch model.\n",
      "If your task is similar to the task the model of the checkpoint was trained on, you can already use TFBertModel for predictions without further training.\n"
     ]
    },
    {
     "name": "stdout",
     "output_type": "stream",
     "text": [
      "\n",
      "Starting final model training...\n",
      "Epoch 1/3\n",
      "\u001b[1m1263/1263\u001b[0m \u001b[32m━━━━━━━━━━━━━━━━━━━━\u001b[0m\u001b[37m\u001b[0m \u001b[1m326s\u001b[0m 243ms/step - accuracy: 0.5394 - loss: 0.8741\n",
      "Epoch 2/3\n",
      "\u001b[1m1263/1263\u001b[0m \u001b[32m━━━━━━━━━━━━━━━━━━━━\u001b[0m\u001b[37m\u001b[0m \u001b[1m307s\u001b[0m 237ms/step - accuracy: 0.7654 - loss: 0.4862\n",
      "Epoch 3/3\n",
      "\u001b[1m1263/1263\u001b[0m \u001b[32m━━━━━━━━━━━━━━━━━━━━\u001b[0m\u001b[37m\u001b[0m \u001b[1m322s\u001b[0m 237ms/step - accuracy: 0.8952 - loss: 0.2814\n"
     ]
    }
   ],
   "source": [
    "# 4. FINAL MODEL TRAINING\n",
    "print(\"\\n Training Final Model on Full Training Data\")\n",
    "\n",
    "# Train the definitive model on the entire training+validation set\n",
    "print(\"Tokenizing all training data...\")\n",
    "X_train_val_token = tokenize_data(X_train_val, bert_tokenizer, MAX_LEN)\n",
    "X_test_token = tokenize_data(X_test, bert_tokenizer, MAX_LEN) # Also tokenize test set for final eval\n",
    "\n",
    "# Create and compile the final model\n",
    "final_model = create_bert_cnn_model()\n",
    "optimizer = Adam(learning_rate=2e-5, epsilon=1e-08)\n",
    "final_model.compile(optimizer=optimizer, loss='binary_crossentropy', metrics=['accuracy'])\n",
    "\n",
    "print(\"\\nStarting final model training...\")\n",
    "# No validation data here as we use all data for training.\n",
    "# We also train for a fixed number of epochs based on insights from CV.\n",
    "history = final_model.fit(\n",
    "    x={'input_ids': X_train_val_token['input_ids'], 'attention_mask': X_train_val_token['attention_mask']},\n",
    "    y=y_train_val,\n",
    "    epochs=3,\n",
    "    batch_size=32,\n",
    "    verbose=1\n",
    ")"
   ]
  },
  {
   "cell_type": "code",
   "execution_count": null,
   "metadata": {
    "colab": {
     "base_uri": "https://localhost:8080/",
     "height": 777
    },
    "executionInfo": {
     "elapsed": 44644,
     "status": "ok",
     "timestamp": 1758371346785,
     "user": {
      "displayName": "Artemis Papaspyrou",
      "userId": "18188189575963929921"
     },
     "user_tz": -180
    },
    "id": "bfZ8j9GPaHsH",
    "outputId": "34e8def1-312b-43a9-b310-67ac875c9dbb"
   },
   "outputs": [
    {
     "name": "stdout",
     "output_type": "stream",
     "text": [
      "\n",
      " Evaluating the Final Model on the Test Set\n",
      "\u001b[1m141/141\u001b[0m \u001b[32m━━━━━━━━━━━━━━━━━━━━\u001b[0m\u001b[37m\u001b[0m \u001b[1m44s\u001b[0m 282ms/step\n",
      "\n",
      " Classification Report on Test Set:\n",
      "              precision    recall  f1-score   support\n",
      "\n",
      "    Real (0)       0.97      0.95      0.96      2142\n",
      "    Fake (1)       0.96      0.97      0.96      2348\n",
      "\n",
      "    accuracy                           0.96      4490\n",
      "   macro avg       0.96      0.96      0.96      4490\n",
      "weighted avg       0.96      0.96      0.96      4490\n",
      "\n",
      "\n",
      " Confusion Matrix:\n"
     ]
    },
    {
     "data": {
      "image/png": "[encoded data removed]",
      "text/plain": [
       "<Figure size 600x500 with 2 Axes>"
      ]
     },
     "metadata": {},
     "output_type": "display_data"
    }
   ],
   "source": [
    "# 5: EVALUATING THE FINAL MODEL ON THE HELD-OUT TEST SET\n",
    "print(\"\\n Evaluating the Final Model on the Test Set\")\n",
    "\n",
    "# Make predictions on the unseen test set\n",
    "predicted_probabilities = final_model.predict({\n",
    "    'input_ids': X_test_token['input_ids'],\n",
    "    'attention_mask': X_test_token['attention_mask']\n",
    "})\n",
    "binary_predictions = (predicted_probabilities > 0.5).astype(int)\n",
    "\n",
    "# Generate Classification Report and Confusion Matrix\n",
    "print(\"\\n Classification Report on Test Set:\")\n",
    "print(classification_report(y_test, binary_predictions, target_names=['Real (0)', 'Fake (1)']))\n",
    "\n",
    "print(\"\\n Confusion Matrix:\")\n",
    "cm = confusion_matrix(y_test, binary_predictions)\n",
    "plt.figure(figsize=(6, 5))\n",
    "sns.heatmap(cm, annot=True, fmt='d', cmap='Blues', xticklabels=['Real', 'Fake'], yticklabels=['Real', 'Fake'])\n",
    "plt.xlabel(\"Predicted Label\")\n",
    "plt.ylabel(\"True Label\")\n",
    "plt.title(\"Confusion Matrix (Held-out Test Set)\")\n",
    "plt.show()"
   ]
  },
  {
   "cell_type": "code",
   "execution_count": null,
   "metadata": {
    "colab": {
     "base_uri": "https://localhost:8080/"
    },
    "executionInfo": {
     "elapsed": 28916,
     "status": "ok",
     "timestamp": 1758371375704,
     "user": {
      "displayName": "Artemis Papaspyrou",
      "userId": "18188189575963929921"
     },
     "user_tz": -180
    },
    "id": "ZEAigdzH7HnC",
    "outputId": "fb57db9f-b515-4538-b28b-2416815af7ad"
   },
   "outputs": [
    {
     "name": "stdout",
     "output_type": "stream",
     "text": [
      "\n",
      "--- Section 6: Saving Model Artifacts and Test Data ---\n",
      "Mounted at /content/drive\n",
      "Removing existing directory: /content/drive/MyDrive/fake_news_models_k-folds/Latest_BertCNN\n",
      "\n",
      "Artifacts will be saved to: /content/drive/MyDrive/fake_news_models_k-folds/Latest_BertCNN\n",
      "-> Full model saved successfully to: /content/drive/MyDrive/fake_news_models_k-folds/Latest_BertCNN/model.keras\n",
      "-> Tokenizer saved successfully to: /content/drive/MyDrive/fake_news_models_k-folds/Latest_BertCNN/tokenizer\n",
      "-> Model configuration saved successfully to: /content/drive/MyDrive/fake_news_models_k-folds/Latest_BertCNN/config.json\n",
      "\n",
      "Saving the held-out test dataset...\n",
      "-> Test data saved successfully to: /content/drive/MyDrive/fake_news_models_k-folds/Latest_BertCNN/test_data.csv\n",
      "\n",
      " All artifacts, including the test set, have been saved.\n"
     ]
    }
   ],
   "source": [
    "# Section 6: Saving the Final Model and Test Data\n",
    "import json\n",
    "from pathlib import Path\n",
    "import shutil\n",
    "from google.colab import drive\n",
    "import pandas as pd\n",
    "\n",
    "print(\"\\n--- Section 6: Saving Model Artifacts and Test Data ---\")\n",
    "\n",
    "# Mount Google Drive\n",
    "drive.mount('/content/drive')\n",
    "\n",
    "# Define an output directory, clearing it first for a clean save\n",
    "output_dir = Path(\"/content/drive/MyDrive/fake_news_models_k-folds/Latest_BertCNN\")\n",
    "\n",
    "if output_dir.exists():\n",
    "    print(f\"Removing existing directory: {output_dir}\")\n",
    "    shutil.rmtree(output_dir)\n",
    "output_dir.mkdir(parents=True, exist_ok=True)\n",
    "print(f\"\\nArtifacts will be saved to: {output_dir}\")\n",
    "\n",
    "# 1. Save the final trained model (architecture + weights)\n",
    "# Use model.save() and the modern .keras extension.\n",
    "model_path = output_dir / \"model.keras\"\n",
    "final_model.save(model_path)\n",
    "print(f\"-> Full model saved successfully to: {model_path}\")\n",
    "\n",
    "# 2. Save the tokenizer\n",
    "tokenizer_path = output_dir / \"tokenizer\"\n",
    "bert_tokenizer.save_pretrained(str(tokenizer_path))\n",
    "print(f\"-> Tokenizer saved successfully to: {tokenizer_path}\")\n",
    "\n",
    "# 3. Save the configuration file\n",
    "config = {\"model_name\": MODEL_NAME, \"max_len\": MAX_LEN}\n",
    "config_path = output_dir / \"config.json\"\n",
    "with open(config_path, 'w') as f:\n",
    "    json.dump(config, f, indent=4)\n",
    "print(f\"-> Model configuration saved successfully to: {config_path}\")\n",
    "\n",
    "# 4. Save the held-out test set for consistent evaluation\n",
    "print(\"\\nSaving the held-out test dataset...\")\n",
    "test_df = pd.DataFrame({\n",
    "    'content': X_test,  # The test data from initial split\n",
    "    'label': y_test\n",
    "})\n",
    "test_data_path = output_dir / \"test_data.csv\"\n",
    "test_df.to_csv(test_data_path, index=False)\n",
    "print(f\"-> Test data saved successfully to: {test_data_path}\")\n",
    "\n",
    "print(\"\\n All artifacts, including the test set, have been saved.\")"
   ]
  }
 ],
 "metadata": {
  "accelerator": "GPU",
  "colab": {
   "gpuType": "T4",
   "provenance": []
  },
  "kernelspec": {
   "display_name": "Python 3",
   "name": "python3"
  },
  "language_info": {
   "name": "python"
  }
 },
 "nbformat": 4,
 "nbformat_minor": 0
}
